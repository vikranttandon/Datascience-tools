{
 "cells": [
  {
   "cell_type": "code",
   "execution_count": 2,
   "id": "periodic-polls",
   "metadata": {},
   "outputs": [],
   "source": [
    "import numpy as np"
   ]
  },
  {
   "cell_type": "markdown",
   "id": "advised-cassette",
   "metadata": {},
   "source": [
    "<font color = 'yellow'> NumPy arrays are faster and more compact than Python lists. An array consumes less memory and is convenient to use. NumPy uses much less memory to store data and it provides a mechanism of specifying the data types. This allows the code to be optimized even further.</font>\n",
    "\n",
    "<font color = 'green'> Numpy arrays take in __sequence__ ds such as __strings__, __lists__ and __tuples__ as argument to cast them into np arrays.</font>"
   ]
  },
  {
   "cell_type": "code",
   "execution_count": 46,
   "id": "electric-geometry",
   "metadata": {},
   "outputs": [
    {
     "name": "stdout",
     "output_type": "stream",
     "text": [
      "[1 2 3 4 5]\n",
      "<class 'numpy.ndarray'>\n",
      "(5,)\n"
     ]
    }
   ],
   "source": [
    "# creating an array\n",
    "a = np.array([1,2,3,4,5])\n",
    "print(a)\n",
    "print(type(a))\n",
    "print(a.shape) # It is not a method but an attribute which tells about the dimensions of the array"
   ]
  },
  {
   "cell_type": "code",
   "execution_count": 47,
   "id": "sunrise-accent",
   "metadata": {},
   "outputs": [
    {
     "name": "stdout",
     "output_type": "stream",
     "text": [
      "[[1]\n",
      " [2]\n",
      " [3]\n",
      " [4]]\n",
      "<class 'numpy.ndarray'>\n",
      "(4, 1)\n"
     ]
    }
   ],
   "source": [
    "b = np.array([[1],[2],[3],[4]])\n",
    "print(b)\n",
    "print(type(b))\n",
    "print(b.shape) # 4x1 : 4 rows 1 column"
   ]
  },
  {
   "cell_type": "code",
   "execution_count": 48,
   "id": "prospective-prevention",
   "metadata": {},
   "outputs": [
    {
     "name": "stdout",
     "output_type": "stream",
     "text": [
      "[[1 2 3]\n",
      " [4 5 6]]\n",
      "(2, 3)\n",
      "5\n"
     ]
    }
   ],
   "source": [
    "c = np.array([[1,2,3],[4,5,6]])\n",
    "print(c)\n",
    "print(c.shape)\n",
    "print(c[1][1])"
   ]
  },
  {
   "cell_type": "markdown",
   "id": "alleged-investigation",
   "metadata": {},
   "source": [
    "<font color = 'red'> custom arrays</font>"
   ]
  },
  {
   "cell_type": "code",
   "execution_count": 51,
   "id": "sweet-cinema",
   "metadata": {},
   "outputs": [
    {
     "name": "stdout",
     "output_type": "stream",
     "text": [
      "[[0. 0. 0.]\n",
      " [0. 0. 0.]\n",
      " [0. 0. 0.]]\n",
      "[[1. 1. 1.]\n",
      " [1. 1. 1.]]\n",
      "[[5 5]\n",
      " [5 5]\n",
      " [5 5]]\n",
      "[[1. 0. 0. 0.]\n",
      " [0. 1. 0. 0.]\n",
      " [0. 0. 1. 0.]\n",
      " [0. 0. 0. 1.]]\n",
      "[[0.85650739 0.46209821 0.81712818]\n",
      " [0.96597998 0.28077519 0.62190258]]\n"
     ]
    }
   ],
   "source": [
    "# create Zeros, Ones, Cutom arrays, Identity matrix, Random matrix\n",
    "a = np.zeros((3,3)) # dimension packed in a tuple \n",
    "print(a)\n",
    "\n",
    "b = np.ones((2,3)) \n",
    "print(b)\n",
    "\n",
    "c = np.full((3,2),5) # first dimension then value\n",
    "print(c)\n",
    "\n",
    "d = np.eye(4) # identitiy matrix\n",
    "print(d)\n",
    "\n",
    "e = np.random.random((2,3)) # random.randint(i,size=(x,y)) : numbers bw 1 to i, of size x by y \n",
    "print(e)"
   ]
  },
  {
   "cell_type": "markdown",
   "id": "latest-generator",
   "metadata": {},
   "source": [
    "We can read and update the values of these arrays."
   ]
  },
  {
   "cell_type": "markdown",
   "id": "complicated-assurance",
   "metadata": {},
   "source": [
    "<font color = 'yellow'> For matrix e, [ , ] which holds 2 values [rows, columns]\n",
    "<br> We can do slicing for these as well"
   ]
  },
  {
   "cell_type": "code",
   "execution_count": 65,
   "id": "short-healing",
   "metadata": {},
   "outputs": [
    {
     "name": "stdout",
     "output_type": "stream",
     "text": [
      "[0.81712818 0.62190258]\n",
      "[0.28077519 0.62190258]\n"
     ]
    }
   ],
   "source": [
    "# Ways to read using slicing \n",
    "\n",
    "# To read column-2 of e matrix\n",
    "print(e[:,2]) # We need all rows so '[:,' and 2nd column so '2]'\n",
    " \n",
    "# To read last 2 values of last row in e matrix\n",
    "print(e[1 ,1:]) # In row 1 we need all elements from 1"
   ]
  },
  {
   "cell_type": "markdown",
   "id": "protected-oklahoma",
   "metadata": {},
   "source": [
    "<font color = 'red'> The datatype can also be mentioned at the time of declaration <font>"
   ]
  },
  {
   "cell_type": "code",
   "execution_count": 69,
   "id": "comic-earth",
   "metadata": {},
   "outputs": [
    {
     "name": "stdout",
     "output_type": "stream",
     "text": [
      "[[0 0]\n",
      " [0 0]\n",
      " [0 0]]\n",
      "int64\n"
     ]
    }
   ],
   "source": [
    "a = np.zeros((3,2),dtype = np.int64)\n",
    "print(a)\n",
    "print(a.dtype) \n",
    "# By default it is float "
   ]
  },
  {
   "cell_type": "markdown",
   "id": "narrow-frequency",
   "metadata": {},
   "source": [
    "<font color = 'yellow'> Other mathamatical operations such as <font color = 'red'> __addition of arrays, subtraction, multiplication, dot product, division, square root, sum__</font>.. are inbuilt </font>\n",
    "<br>\n",
    "<font color = 'darkgreen'> axis can also be mentioned (optional) which performs the operation based on the value defined i.e <font color = 'grey'> __axis = 0__ would mean, carry out operation for __column__ and __axis = 1__ would mean carry out operation for __row__ <font>"
   ]
  },
  {
   "cell_type": "markdown",
   "id": "every-carol",
   "metadata": {},
   "source": [
    " <font color = 'yellow'> Multiplication does an element wise multiplication of two matrices, while a dot is the dot product of two matrices </font>"
   ]
  },
  {
   "cell_type": "code",
   "execution_count": 10,
   "id": "digital-aerospace",
   "metadata": {},
   "outputs": [
    {
     "name": "stdout",
     "output_type": "stream",
     "text": [
      "[[ 10  40  90]\n",
      " [160 250 360]\n",
      " [490 640 810]]\n",
      "[[0.1 0.1 0.1]\n",
      " [0.1 0.1 0.1]\n",
      " [0.1 0.1 0.1]]\n",
      "[[1.         1.41421356 1.73205081]\n",
      " [2.         2.23606798 2.44948974]\n",
      " [2.64575131 2.82842712 3.        ]]\n"
     ]
    }
   ],
   "source": [
    "# Some examples:\n",
    "x = np.array([[1,2,3],[4,5,6],[7,8,9]])\n",
    "y = np.array([[10,20,30],[40,50,60],[70,80,90]])\n",
    "\n",
    "print(np.multiply(x,y))\n",
    "print(np.divide(x,y)) # or print(x/y) also works\n",
    "print(np.sqrt(x))"
   ]
  },
  {
   "cell_type": "code",
   "execution_count": 11,
   "id": "nearby-runner",
   "metadata": {},
   "outputs": [
    {
     "name": "stdout",
     "output_type": "stream",
     "text": [
      "[[ 300  360  420]\n",
      " [ 660  810  960]\n",
      " [1020 1260 1500]]\n",
      "[[ 300  360  420]\n",
      " [ 660  810  960]\n",
      " [1020 1260 1500]]\n"
     ]
    }
   ],
   "source": [
    "# Matrix multiplication/ dot products\n",
    "print(x.dot(y))\n",
    "print(np.dot(x,y))"
   ]
  },
  {
   "cell_type": "code",
   "execution_count": 12,
   "id": "chemical-county",
   "metadata": {},
   "outputs": [
    {
     "name": "stdout",
     "output_type": "stream",
     "text": [
      "45\n"
     ]
    }
   ],
   "source": [
    "print(np.sum(x))"
   ]
  },
  {
   "cell_type": "code",
   "execution_count": 15,
   "id": "hairy-probe",
   "metadata": {},
   "outputs": [
    {
     "name": "stdout",
     "output_type": "stream",
     "text": [
      "[12 15 18]\n",
      "[ 6 15 24]\n"
     ]
    }
   ],
   "source": [
    "print(np.sum(x,axis=0)) # Along colum\n",
    "print(np.sum(x,axis=1)) # Along row"
   ]
  },
  {
   "cell_type": "code",
   "execution_count": 16,
   "id": "minus-supervisor",
   "metadata": {},
   "outputs": [
    {
     "data": {
      "text/plain": [
       "array([[[ 1,  2,  3],\n",
       "        [10, 20, 30]],\n",
       "\n",
       "       [[ 4,  5,  6],\n",
       "        [40, 50, 60]],\n",
       "\n",
       "       [[ 7,  8,  9],\n",
       "        [70, 80, 90]]])"
      ]
     },
     "execution_count": 16,
     "metadata": {},
     "output_type": "execute_result"
    }
   ],
   "source": [
    "# Stacking of arrays\n",
    "np.stack((x,y),axis = 1) # merging arrays"
   ]
  },
  {
   "cell_type": "code",
   "execution_count": 31,
   "id": "matched-fundamental",
   "metadata": {},
   "outputs": [
    {
     "name": "stdout",
     "output_type": "stream",
     "text": [
      "[[1 2 3]\n",
      " [4 5 6]]\n",
      "[[1 2]\n",
      " [3 4]\n",
      " [5 6]]\n",
      "[[1 2]\n",
      " [3 4]\n",
      " [5 6]]\n"
     ]
    }
   ],
   "source": [
    "# Reshaping a numpy array\n",
    "a = np.array([[1,2,3],[4,5,6]])\n",
    "print(a)\n",
    "a = a.reshape(3,2)\n",
    "print(a)\n",
    "a = a.reshape(3,-1) # if a dimension is not known then put -1 in place of it   \n",
    "print(a)\n",
    "a = a.reshape(-1,2)"
   ]
  },
  {
   "cell_type": "code",
   "execution_count": 5,
   "id": "cheap-clone",
   "metadata": {},
   "outputs": [
    {
     "name": "stdout",
     "output_type": "stream",
     "text": [
      "41\n",
      "2\n"
     ]
    }
   ],
   "source": [
    "matrix = np.array([[10,24,4,17],[21,17,12,2],[41,16,7,3]])\n",
    "\n",
    "# Max element in a matrix\n",
    "print(np.max(matrix))\n",
    "\n",
    "# Min element in a matrix\n",
    "print(np.min(matrix))"
   ]
  },
  {
   "cell_type": "markdown",
   "id": "champion-access",
   "metadata": {},
   "source": [
    "<font color ='yellow'> To find out the index of min/max element is the matrix/array </font>"
   ]
  },
  {
   "cell_type": "code",
   "execution_count": 26,
   "id": "incorporated-fighter",
   "metadata": {},
   "outputs": [
    {
     "name": "stdout",
     "output_type": "stream",
     "text": [
      "5\n",
      "6\n",
      "[-5 -1  1  2  4 13 16 17 18]\n",
      "(array([-5, -1,  1,  2,  4, 13, 16, 17, 18]), array([1, 2, 2, 4, 2, 1, 2, 1, 1], dtype=int64))\n"
     ]
    }
   ],
   "source": [
    "vector = np.array([14,7,5,15,16,2,18])\n",
    "\n",
    "print(np.argmin(vector))\n",
    "print(np.argmax(vector))\n",
    "\n",
    "# To get an array of unique elements out of the original array \n",
    "\n",
    "dup_ar = np.array([2,16,4,1,1,4,2,2,2,16,18,17,13,-1,-5,-1])\n",
    "\n",
    "unique1 = np.unique(dup_ar) # Returns in a sorted order\n",
    "print(unique1)\n",
    "\n",
    "unique2 = np.unique(dup_ar,return_counts = True) # a tuple of array and frequency of elements in that array\n",
    "print(unique2) "
   ]
  },
  {
   "cell_type": "code",
   "execution_count": 28,
   "id": "soviet-clinton",
   "metadata": {},
   "outputs": [
    {
     "name": "stdout",
     "output_type": "stream",
     "text": [
      "2\n"
     ]
    }
   ],
   "source": [
    "# To find out the element with the highest frequency \n",
    "index_of_max = np.argmax(unique2[1])\n",
    "print(unique2[0][index_of_max])"
   ]
  }
 ],
 "metadata": {
  "kernelspec": {
   "display_name": "Python 3",
   "language": "python",
   "name": "python3"
  },
  "language_info": {
   "codemirror_mode": {
    "name": "ipython",
    "version": 3
   },
   "file_extension": ".py",
   "mimetype": "text/x-python",
   "name": "python",
   "nbconvert_exporter": "python",
   "pygments_lexer": "ipython3",
   "version": "3.9.1"
  }
 },
 "nbformat": 4,
 "nbformat_minor": 5
}
