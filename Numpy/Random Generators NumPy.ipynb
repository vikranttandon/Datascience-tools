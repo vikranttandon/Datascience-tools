{
 "cells": [
  {
   "cell_type": "markdown",
   "id": "demographic-assistant",
   "metadata": {},
   "source": [
    "## Numpy Random Module\n",
    "\n",
    "- rand : Random values in a given shape.\n",
    "- randn : Returns a sample(or samples) from the 'standard normal' distribution.\n",
    "- randInt : Returns random integers from low(inclusive) to high(exclusive).\n",
    "- random : Returns random floats in the half-open interval [0.0,1.0]\n",
    "- choice : Generates a random sample from a given 1-D array \n",
    "- shuffle : Shuffles the contents of a sequence"
   ]
  },
  {
   "cell_type": "code",
   "execution_count": 1,
   "id": "hollywood-precipitation",
   "metadata": {},
   "outputs": [],
   "source": [
    "import numpy as np"
   ]
  },
  {
   "cell_type": "code",
   "execution_count": 3,
   "id": "infinite-husband",
   "metadata": {},
   "outputs": [
    {
     "name": "stdout",
     "output_type": "stream",
     "text": [
      "[0 1 2 3 4 5 6 7 8 9]\n",
      "[ 5  6  7  8  9 10 11 12 13 14]\n"
     ]
    }
   ],
   "source": [
    "# Arange (not a part of random module) but gives out an array filled with elements from 0 to n-1\n",
    "a = np.arange(10) \n",
    "print(a)\n",
    "\n",
    "b = np.arange(10) + 5 # can give out the starting value\n",
    "print(b)"
   ]
  },
  {
   "cell_type": "code",
   "execution_count": 98,
   "id": "automotive-richardson",
   "metadata": {},
   "outputs": [
    {
     "name": "stdout",
     "output_type": "stream",
     "text": [
      "[8 3 2 1 9 4 5 6 7 0]\n",
      "[15 13 18 18 10]\n",
      "-21\n"
     ]
    }
   ],
   "source": [
    "np.random.shuffle(a)\n",
    "print(a)\n",
    "\n",
    "# Generating a array of randoms\n",
    "\n",
    "c = np.random.randint(10,20,5) # 5 randoms bw [10,20)\n",
    "print(c)\n",
    "\n",
    "# Randomly pick an element from an array\n",
    "element = np.random.choice([1,17,11,13,7,14,-21])\n",
    "print(element)"
   ]
  },
  {
   "cell_type": "markdown",
   "id": "accessible-embassy",
   "metadata": {},
   "source": [
    "#### For random number generators to generate numbers in the same order we've to set seed as 1 in the begining.\n",
    "<br> <font color = 'skyblue'>These rand.. are pseudo random i.e: \n",
    "<br>-  When a random number is generated, a series of random numbers is generated following it\n",
    "<br>and the next time we run the notebook, a different series might get generated starting from a different random number.\n",
    "<br>- seed(1) will store the state of the random numbers so that next time we run the notebook, the generator generates the same set of random numbers as it generated earlier (we can replicate our results).</font>"
   ]
  },
  {
   "cell_type": "code",
   "execution_count": 2,
   "id": "found-impression",
   "metadata": {},
   "outputs": [],
   "source": [
    "np.random.seed(1)"
   ]
  },
  {
   "cell_type": "code",
   "execution_count": 4,
   "id": "otherwise-giving",
   "metadata": {},
   "outputs": [
    {
     "name": "stdout",
     "output_type": "stream",
     "text": [
      "[17 12 18 17 11 14  7  9 19 10]\n"
     ]
    }
   ],
   "source": [
    "aux = np.random.randint(5,20,10) \n",
    "print(aux)\n",
    "# same series will get generated everytime we run this notebook after executing cekk with seed(1)"
   ]
  }
 ],
 "metadata": {
  "kernelspec": {
   "display_name": "Python 3",
   "language": "python",
   "name": "python3"
  },
  "language_info": {
   "codemirror_mode": {
    "name": "ipython",
    "version": 3
   },
   "file_extension": ".py",
   "mimetype": "text/x-python",
   "name": "python",
   "nbconvert_exporter": "python",
   "pygments_lexer": "ipython3",
   "version": "3.9.1"
  }
 },
 "nbformat": 4,
 "nbformat_minor": 5
}
