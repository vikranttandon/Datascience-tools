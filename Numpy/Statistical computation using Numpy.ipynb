{
 "cells": [
  {
   "cell_type": "markdown",
   "id": "lesbian-institution",
   "metadata": {},
   "source": [
    "## stats\n",
    "- min,max\n",
    "- mean\n",
    "- median\n",
    "- average\n",
    "- variance\n",
    "- standard deviation"
   ]
  },
  {
   "cell_type": "code",
   "execution_count": 2,
   "id": "aware-brown",
   "metadata": {},
   "outputs": [],
   "source": [
    "import numpy as np"
   ]
  },
  {
   "cell_type": "code",
   "execution_count": 3,
   "id": "intelligent-precipitation",
   "metadata": {},
   "outputs": [
    {
     "name": "stdout",
     "output_type": "stream",
     "text": [
      "1\n",
      "[1 2 2 1]\n",
      "[1 1]\n"
     ]
    }
   ],
   "source": [
    "# min/ max\n",
    "matrix = np.array([[1,2,3,4],[4,3,2,1]])\n",
    "\n",
    "print(np.min(matrix))\n",
    "\n",
    "print(np.min(matrix,axis = 0))\n",
    "print(np.min(matrix,axis = 1))"
   ]
  },
  {
   "cell_type": "code",
   "execution_count": 14,
   "id": "centered-priority",
   "metadata": {},
   "outputs": [
    {
     "name": "stdout",
     "output_type": "stream",
     "text": [
      "3.5\n",
      "3.5\n",
      "23.0\n",
      "[ 2.5 42.5 17.  30. ]\n",
      "[17.25 28.75]\n"
     ]
    }
   ],
   "source": [
    "# mean \n",
    "vector = np.array([1,2,3,4,5,6])\n",
    "print(np.mean(vector))\n",
    "\n",
    "# median \n",
    "print(np.median(vector))\n",
    "\n",
    "matrix =  np.array([[1,12,13,43],[4,73,21,17]])\n",
    "print(np.mean(matrix))\n",
    "print(np.mean(matrix, axis = 0))\n",
    "print(np.mean(matrix, axis = 1))"
   ]
  },
  {
   "cell_type": "code",
   "execution_count": 17,
   "id": "vital-turning",
   "metadata": {},
   "outputs": [
    {
     "name": "stdout",
     "output_type": "stream",
     "text": [
      "3.5\n",
      "4.333333333333333\n"
     ]
    }
   ],
   "source": [
    "# Average\n",
    "print(np.average(vector))\n",
    "\n",
    "# But we can even pass weights of each elements to average function \n",
    "\n",
    "wts = np.array([10,20,30,40,50,60])\n",
    "print(np.average(vector,weights = wts))"
   ]
  },
  {
   "cell_type": "code",
   "execution_count": 22,
   "id": "competitive-hotel",
   "metadata": {},
   "outputs": [
    {
     "name": "stdout",
     "output_type": "stream",
     "text": [
      "1.707825127659933\n",
      "2.9166666666666665\n"
     ]
    }
   ],
   "source": [
    "# variance and standard deviation \n",
    "print(np.std(vector)) \n",
    "print(np.var(vector)) "
   ]
  },
  {
   "cell_type": "code",
   "execution_count": 41,
   "id": "cross-interval",
   "metadata": {},
   "outputs": [
    {
     "name": "stdout",
     "output_type": "stream",
     "text": [
      "18\n"
     ]
    }
   ],
   "source": [
    "aux = np.array([10,10,10,10,10,10])\n",
    "x = 7\n",
    "print(sum(aux-x)) # reducing 7 from every element while obtaining sum "
   ]
  },
  {
   "cell_type": "code",
   "execution_count": 63,
   "id": "automatic-limitation",
   "metadata": {},
   "outputs": [
    {
     "name": "stdout",
     "output_type": "stream",
     "text": [
      "[[[ 7 13  1  6]\n",
      "  [ 0  3 14 11]\n",
      "  [ 4  5  2 11]\n",
      "  [ 2  1  2  2]]]\n"
     ]
    }
   ],
   "source": [
    "a = np.random.randint(0,15, size=(4,4))\n",
    "print(a[np.any((a >= 5) & (a <= 10))])"
   ]
  },
  {
   "cell_type": "code",
   "execution_count": 66,
   "id": "married-pacific",
   "metadata": {},
   "outputs": [
    {
     "name": "stdout",
     "output_type": "stream",
     "text": [
      "[7 6 5]\n"
     ]
    }
   ],
   "source": [
    "print(a[np.where((a >= 5) & (a <= 10))])"
   ]
  }
 ],
 "metadata": {
  "kernelspec": {
   "display_name": "Python 3",
   "language": "python",
   "name": "python3"
  },
  "language_info": {
   "codemirror_mode": {
    "name": "ipython",
    "version": 3
   },
   "file_extension": ".py",
   "mimetype": "text/x-python",
   "name": "python",
   "nbconvert_exporter": "python",
   "pygments_lexer": "ipython3",
   "version": "3.9.1"
  }
 },
 "nbformat": 4,
 "nbformat_minor": 5
}
