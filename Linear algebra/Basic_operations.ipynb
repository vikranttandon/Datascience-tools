{
 "cells": [
  {
   "cell_type": "code",
   "execution_count": 2,
   "id": "statistical-tolerance",
   "metadata": {},
   "outputs": [],
   "source": [
    "import numpy as np"
   ]
  },
  {
   "cell_type": "markdown",
   "id": "interstate-whale",
   "metadata": {},
   "source": [
    "## Scalars and vectors"
   ]
  },
  {
   "cell_type": "code",
   "execution_count": 3,
   "id": "painted-gender",
   "metadata": {},
   "outputs": [
    {
     "name": "stdout",
     "output_type": "stream",
     "text": [
      "(3,)\n",
      "(3, 1)\n"
     ]
    }
   ],
   "source": [
    "# By default vectors are column vectors\n",
    "\n",
    "x = np.array([1,2,3])\n",
    "print(x.shape) # This is also a vector\n",
    "\n",
    "# But for a column vector\n",
    "y = np.array([[1],[2],[3]])\n",
    "print(y.shape) # 3 rows and 1 column"
   ]
  },
  {
   "cell_type": "markdown",
   "id": "affected-administration",
   "metadata": {},
   "source": [
    "## Matrices and tensors"
   ]
  },
  {
   "cell_type": "markdown",
   "id": "changing-partnership",
   "metadata": {},
   "source": [
    "A matrix would come in use when suppose if we have an image in which there are multiple faces.\n",
    "<br> Each face is represented by (x,y), width and height.\n",
    "<br> To store the dimensions of multiple such faces, we would need a matrix.\n",
    "<br> Matrix = [[(x1,y1),w1,h1],...]\n",
    "<br> To access any face: Matrix[i].\n",
    "<br><br> A Tensor is an array with more than 2 axes.\n",
    "<br> A pixel is a combination of RGB.\n",
    "<br> An image is stored in the form of (3x3) tensor, \n",
    "<br> i.e, every cell is a combination of 3 values R,G,B."
   ]
  },
  {
   "cell_type": "code",
   "execution_count": 11,
   "id": "verbal-proceeding",
   "metadata": {},
   "outputs": [
    {
     "name": "stdout",
     "output_type": "stream",
     "text": [
      "[[[1 1 1]\n",
      "  [1 1 1]\n",
      "  [1 1 1]]\n",
      "\n",
      " [[1 1 1]\n",
      "  [1 1 1]\n",
      "  [1 1 1]]\n",
      "\n",
      " [[1 1 1]\n",
      "  [1 1 1]\n",
      "  [1 1 1]]\n",
      "\n",
      " [[1 1 1]\n",
      "  [1 1 1]\n",
      "  [1 1 1]]\n",
      "\n",
      " [[1 1 1]\n",
      "  [1 1 1]\n",
      "  [1 1 1]]]\n"
     ]
    },
    {
     "data": {
      "image/png": "[encoded data removed]",
      "text/plain": [
       "<Figure size 432x288 with 1 Axes>"
      ]
     },
     "metadata": {
      "needs_background": "light"
     },
     "output_type": "display_data"
    },
    {
     "data": {
      "image/png": "[encoded data removed]",
      "text/plain": [
       "<Figure size 432x288 with 1 Axes>"
      ]
     },
     "metadata": {
      "needs_background": "light"
     },
     "output_type": "display_data"
    }
   ],
   "source": [
    "t = np.ones((5,3,3),dtype='uint8') # 5row, 3col, 3 height \n",
    "print(t)\n",
    "\n",
    "# Using dtype as 'uint8' than 'int32' would be better if plotting an image out of the tensor\n",
    "# Because, uint8 works on 8 bits of data while int32/64 would work on a 32/64 bits of data\n",
    "# and since we only need values ranging from 0 to 255, its better to use uint8 for pixels.\n",
    "import matplotlib.pyplot as plt\n",
    "\n",
    "plt.imshow(t)\n",
    "plt.show()\n",
    "\n",
    "# Changing some pixel values\n",
    "t[ : ,0, :] = 255 # Changing 0th col for every row and height\n",
    "plt.imshow(t)\n",
    "plt.show()"
   ]
  },
  {
   "cell_type": "code",
   "execution_count": 15,
   "id": "exotic-consolidation",
   "metadata": {},
   "outputs": [
    {
     "name": "stdout",
     "output_type": "stream",
     "text": [
      "[[1 1 1]\n",
      " [1 1 1]\n",
      " [1 1 1]\n",
      " [1 1 1]\n",
      " [1 1 1]] (5, 3)\n",
      "[[1 1 1 1 1]\n",
      " [1 1 1 1 1]\n",
      " [1 1 1 1 1]] (3, 5)\n"
     ]
    }
   ],
   "source": [
    "# Transpose\n",
    "aux = np.ones((5,3),dtype = 'int32')\n",
    "print(aux,aux.shape)\n",
    "\n",
    "new_aux = aux.T\n",
    "print(new_aux,new_aux.shape)\n",
    "\n",
    "# For a vector, transpose of a row vector will make it a column vector and vice versa "
   ]
  },
  {
   "cell_type": "markdown",
   "id": "virgin-contact",
   "metadata": {},
   "source": [
    "## Broadcasting"
   ]
  },
  {
   "cell_type": "markdown",
   "id": "northern-folks",
   "metadata": {},
   "source": [
    "Adding a scalar to a vector\n",
    "- Similarly a vector can be added to a matrix (numpy will add the vector to each column of the matrix).\n",
    "- Works only with numpy arrays."
   ]
  },
  {
   "cell_type": "code",
   "execution_count": 30,
   "id": "quiet-negative",
   "metadata": {},
   "outputs": [
    {
     "name": "stdout",
     "output_type": "stream",
     "text": [
      "[25 26 27 28 29]\n",
      "\n",
      "[[10  7 15 13 24]\n",
      " [ 2  2 15 23 11]\n",
      " [11 14  5 23 18]]\n",
      "\n",
      "[[11  9 18 17 29]\n",
      " [ 3  4 18 27 16]\n",
      " [12 16  8 27 23]]\n"
     ]
    }
   ],
   "source": [
    "scalar = 24\n",
    "vector = np.array([1,2,3,4,5])\n",
    "\n",
    "# After broadcasting\n",
    "new_vector = vector+scalar\n",
    "print(new_vector,end = '\\n\\n')\n",
    "\n",
    "matrix = np.random.randint(25,size=(3,5))\n",
    "print(matrix,end = \"\\n\\n\")\n",
    "new_matrix = matrix + vector\n",
    "print(new_matrix)"
   ]
  },
  {
   "cell_type": "markdown",
   "id": "apart-facility",
   "metadata": {},
   "source": [
    "## Multiplication"
   ]
  },
  {
   "cell_type": "markdown",
   "id": "centered-child",
   "metadata": {},
   "source": [
    "Element wise mulitplication/ Hadamard product:\n",
    "- Operates on 2 arrays of same shape.\n",
    "- Corresponding elements from both the arrays are multiplied.\n",
    "<br><br>\n",
    "Matrix multiplication / Dot product:\n",
    "- condition: <font color = 'yellow'>\n",
    "<br>If rows & col in A: x,y\n",
    "<br>Then rows & col in B: y,z\n",
    "<br>i.e, B must have same number of rows as the number of cols in A or vice versa. "
   ]
  },
  {
   "cell_type": "code",
   "execution_count": 34,
   "id": "acute-reform",
   "metadata": {},
   "outputs": [
    {
     "name": "stdout",
     "output_type": "stream",
     "text": [
      "[[18 23 10 15 13 11 24 24 14]\n",
      " [21 24 22 13 21 12 16 22 22]\n",
      " [22 15 21 22 10 12 17 11 17]\n",
      " [16 23 23 22 11 19 24 10 12]] \n",
      "\n",
      " [[29 25 23 31 25 28 31 33 26]\n",
      " [26 30 30 25 28 25 34 26 34]\n",
      " [28 34 28 33 33 28 21 20 33]\n",
      " [26 24 23 29 31 23 30 22 33]] \n",
      "\n",
      "\n",
      "[[522 575 230 465 325 308 744 792 364]\n",
      " [546 720 660 325 588 300 544 572 748]\n",
      " [616 510 588 726 330 336 357 220 561]\n",
      " [416 552 529 638 341 437 720 220 396]]\n"
     ]
    }
   ],
   "source": [
    "A = np.random.randint(10,25,size=(4,9)) # (low,high,size=..) elements bw low,high and array of size..\n",
    "B = np.random.randint(20,35,size=(4,9))\n",
    "print(A,'\\n\\n',B,'\\n\\n')\n",
    "C = A*B # Element wise multiplication\n",
    "print(C)"
   ]
  },
  {
   "cell_type": "code",
   "execution_count": 35,
   "id": "uniform-calculator",
   "metadata": {},
   "outputs": [
    {
     "name": "stdout",
     "output_type": "stream",
     "text": [
      "[[3 6 3 2 4 8 9]\n",
      " [9 7 6 6 8 9 4]\n",
      " [7 5 9 3 9 2 7]] \n",
      "\n",
      " [[20 18 17 16 16]\n",
      " [13 19 13 13 12]\n",
      " [18 16 20 14 19]\n",
      " [20 17 13 19 16]\n",
      " [16 13 17 12 18]\n",
      " [19 19 19 18 19]\n",
      " [19 17 17 16 18]] \n",
      "\n",
      "\n",
      "[[619 607 588 542 595]\n",
      " [874 836 817 755 825]\n",
      " [742 690 713 616 717]]\n"
     ]
    }
   ],
   "source": [
    "D = np.random.randint(1,10,(3,7))\n",
    "E = np.random.randint(12,21,(7,5))\n",
    "print(D,'\\n\\n',E,'\\n\\n')\n",
    "\n",
    "F = np.dot(D,E) # Dot product\n",
    "print(F)"
   ]
  },
  {
   "cell_type": "code",
   "execution_count": null,
   "id": "adjacent-julian",
   "metadata": {},
   "outputs": [],
   "source": []
  }
 ],
 "metadata": {
  "kernelspec": {
   "display_name": "Python 3",
   "language": "python",
   "name": "python3"
  },
  "language_info": {
   "codemirror_mode": {
    "name": "ipython",
    "version": 3
   },
   "file_extension": ".py",
   "mimetype": "text/x-python",
   "name": "python",
   "nbconvert_exporter": "python",
   "pygments_lexer": "ipython3",
   "version": "3.9.1"
  }
 },
 "nbformat": 4,
 "nbformat_minor": 5
}
